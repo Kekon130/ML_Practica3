{
  "cells": [
    {
      "cell_type": "markdown",
      "metadata": {
        "id": "H2TJ87IJTr5O"
      },
      "source": [
        "Primero vamos a proceder importando las librerias que vamos a usar en el desarrollo de la práctica"
      ]
    },
    {
      "cell_type": "code",
      "execution_count": 65,
      "metadata": {
        "id": "-shIkTiUTr5Q"
      },
      "outputs": [],
      "source": [
        "import glob\n",
        "import cv2\n",
        "from skimage import io, transform, color\n",
        "import math\n",
        "import numpy as np\n",
        "import pandas as pd\n",
        "import matplotlib.pyplot\n",
        "import requests\n",
        "import os"
      ]
    },
    {
      "cell_type": "markdown",
      "metadata": {
        "id": "5P-nO-nDTr5R"
      },
      "source": [
        "Para comenzar con el preprocesamiento de las imagenes primero vamos a clonar el repositorio en el que estan las imagenes para poder trabajar en local."
      ]
    },
    {
      "cell_type": "code",
      "source": [
        "os.system(\"git clone https://github.com/Kekon130/ML_Practica3.git\") "
      ],
      "metadata": {
        "colab": {
          "base_uri": "https://localhost:8080/"
        },
        "id": "DxIc-LkVsR0z",
        "outputId": "3ad80944-57ce-48a9-f1d4-ba7c75e81909"
      },
      "execution_count": 61,
      "outputs": [
        {
          "output_type": "execute_result",
          "data": {
            "text/plain": [
              "32768"
            ]
          },
          "metadata": {},
          "execution_count": 61
        }
      ]
    },
    {
      "cell_type": "markdown",
      "source": [
        "Ahora vamos a meter las imagenes en un array para poder acceder de forma fácila a ellas."
      ],
      "metadata": {
        "id": "rmjLB0b-vO_Y"
      }
    },
    {
      "cell_type": "code",
      "source": [
        "ruta_train = \"./ML_Practica3/train\"\n",
        "ruta_test = \"./ML_Practica3/test\"\n",
        "\n",
        "df_train = []\n",
        "img_size = 80\n",
        "\n",
        "for img in os.listdir(ruta_train):\n",
        "  img_normal = io.imread(os.path.join(ruta_train, img))\n",
        "  img_resize = transform.resize(img_normal, output_shape=(img_size, img_size))\n",
        "  img_gray = color.rgb2gray(img_resize)\n",
        "  df_train.append(img_gray)"
      ],
      "metadata": {
        "id": "W8JDlEBPan6F"
      },
      "execution_count": 81,
      "outputs": []
    }
  ],
  "metadata": {
    "kernelspec": {
      "display_name": "Python 3",
      "language": "python",
      "name": "python3"
    },
    "language_info": {
      "codemirror_mode": {
        "name": "ipython",
        "version": 3
      },
      "file_extension": ".py",
      "mimetype": "text/x-python",
      "name": "python",
      "nbconvert_exporter": "python",
      "pygments_lexer": "ipython3",
      "version": "3.9.12 (main, Apr  4 2022, 05:22:27) [MSC v.1916 64 bit (AMD64)]"
    },
    "orig_nbformat": 4,
    "vscode": {
      "interpreter": {
        "hash": "e5898a40ac1bc55161c2b54e62bd79c8b1a24ee26972e08bccb36328cd6b373a"
      }
    },
    "colab": {
      "provenance": []
    }
  },
  "nbformat": 4,
  "nbformat_minor": 0
}