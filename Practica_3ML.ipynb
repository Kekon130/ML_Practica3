{
  "cells": [
    {
      "cell_type": "markdown",
      "metadata": {
        "id": "H2TJ87IJTr5O"
      },
      "source": [
        "Primero vamos a proceder importando las librerias que vamos a usar en el desarrollo de la práctica"
      ]
    },
    {
      "cell_type": "code",
      "execution_count": 65,
      "metadata": {
        "id": "-shIkTiUTr5Q"
      },
      "outputs": [],
      "source": [
        "import glob\n",
        "import cv2\n",
        "from skimage import io, transform, color\n",
        "from skimage.exposure import match_histograms\n",
        "import math\n",
        "import numpy as np\n",
        "import pandas as pd\n",
        "import matplotlib.pyplot as plt\n",
        "import requests\n",
        "import os"
      ]
    },
    {
      "cell_type": "markdown",
      "metadata": {
        "id": "5P-nO-nDTr5R"
      },
      "source": [
        "Para comenzar con el preprocesamiento de las imagenes primero vamos a clonar el repositorio en el que estan las imagenes para poder trabajar en local."
      ]
    },
    {
      "cell_type": "code",
      "execution_count": 61,
      "metadata": {
        "colab": {
          "base_uri": "https://localhost:8080/"
        },
        "id": "DxIc-LkVsR0z",
        "outputId": "3ad80944-57ce-48a9-f1d4-ba7c75e81909"
      },
      "outputs": [
        {
          "data": {
            "text/plain": [
              "32768"
            ]
          },
          "execution_count": 61,
          "metadata": {},
          "output_type": "execute_result"
        }
      ],
      "source": [
        "os.system(\"git clone https://github.com/Kekon130/ML_Practica3.git\") "
      ]
    },
    {
      "cell_type": "markdown",
      "metadata": {
        "id": "rmjLB0b-vO_Y"
      },
      "source": [
        "Ahora vamos a meter las imagenes en un array para poder acceder de forma fácila a ellas."
      ]
    },
    {
      "cell_type": "code",
      "execution_count": 81,
      "metadata": {
        "id": "W8JDlEBPan6F"
      },
      "outputs": [],
      "source": [
        "ruta_train = \"./ML_Practica3/train\"\n",
        "ruta_test = \"./ML_Practica3/test\"\n",
        "\n",
        "df_train = []\n",
        "img_size = 80\n",
        "\n",
        "for img in os.listdir(ruta_train):\n",
        "  img_normal = io.imread(os.path.join(ruta_train, img))\n",
        "  img_resize = transform.resize(img_normal, output_shape=(img_size, img_size))\n",
        "  \n",
        "  //img_gray = color.rgb2gray(img_resize)\n",
        "  \n",
        "  df_train.append(img_normal)\n",
        "  "
      ]
    },
    {
      "cell_type": "markdown",
      "metadata": {},
      "source": [
        "Igualamos los histogramas de todas las imágenes para que sea más homogéneo"
      ]
    },
    {
      "attachments": {},
      "cell_type": "markdown",
      "metadata": {},
      "source": [
        "He hecho una prueba a ver qué salía con una"
      ]
    },
    {
      "cell_type": "code",
      "execution_count": null,
      "metadata": {},
      "outputs": [],
      "source": [
        "referencia = df_train[5]\n",
        "imagen_de_prueba = df_train[1]\n",
        "\n",
        "match = match_histograms (imagen_de_prueba, referencia, multichannel = True)\n",
        "match_escala_de_grises = color.rgb2gray(match)\n",
        "\n",
        "fig, (ax1, ax2, ax3, ax4) = plt.subplots(nrows=1, ncols=4, figsize=(8, 3), sharex=True, sharey=True)\n",
        "for aa in (ax1, ax2, ax3, ax4):\n",
        "    aa.set_axis_off()\n",
        "\n",
        "ax1.imshow(imagen_de_prueba)\n",
        "ax1.set_title('Original')\n",
        "ax2.imshow(referencia)\n",
        "ax2.set_title('Referencia')\n",
        "ax3.imshow(match)\n",
        "ax3.set_title('Ajustada')\n",
        "ax4.imshow(match_escala_de_grises)\n",
        "ax4.set_title('Ajustada en escala de grises')\n",
        "\n",
        "plt.tight_layout()\n",
        "plt.show()\n",
        "\n",
        "io.imshow(match_escala_de_grises)\n"
      ]
    }
  ],
  "metadata": {
    "colab": {
      "provenance": []
    },
    "kernelspec": {
      "display_name": "Python 3",
      "language": "python",
      "name": "python3"
    },
    "language_info": {
      "codemirror_mode": {
        "name": "ipython",
        "version": 3
      },
      "file_extension": ".py",
      "mimetype": "text/x-python",
      "name": "python",
      "nbconvert_exporter": "python",
      "pygments_lexer": "ipython3",
      "version": "3.9.12 (main, Apr  4 2022, 05:22:27) [MSC v.1916 64 bit (AMD64)]"
    },
    "orig_nbformat": 4,
    "vscode": {
      "interpreter": {
        "hash": "e5898a40ac1bc55161c2b54e62bd79c8b1a24ee26972e08bccb36328cd6b373a"
      }
    }
  },
  "nbformat": 4,
  "nbformat_minor": 0
}
